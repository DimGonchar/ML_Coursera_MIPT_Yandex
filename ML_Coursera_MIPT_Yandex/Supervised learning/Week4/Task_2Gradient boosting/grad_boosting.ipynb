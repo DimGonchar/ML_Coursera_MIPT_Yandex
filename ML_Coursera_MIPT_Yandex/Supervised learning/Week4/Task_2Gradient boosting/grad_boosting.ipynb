{
 "cells": [
  {
   "cell_type": "markdown",
   "metadata": {},
   "source": [
    "# Градиентный бустинг своими руками\n",
    "\n",
    "**Внимание:** в тексте задания произошли изменения - поменялось число деревьев (теперь 50), правило изменения величины шага в задании 3 и добавился параметр `random_state` у решающего дерева. Правильные ответы не поменялись, но теперь их проще получить. Также исправлена опечатка в функции `gbm_predict`.\n",
    "\n",
    "В этом задании будет использоваться датасет `boston` из `sklearn.datasets`. Оставьте последние 25% объектов для контроля качества, разделив `X` и `y` на `X_train`, `y_train` и `X_test`, `y_test`.\n",
    "\n",
    "Целью задания будет реализовать простой вариант градиентного бустинга над регрессионными деревьями для случая квадратичной функции потерь."
   ]
  },
  {
   "cell_type": "code",
   "execution_count": 1,
   "metadata": {},
   "outputs": [],
   "source": [
    "from sklearn import datasets, model_selection, tree, metrics, linear_model\n",
    "import numpy as np"
   ]
  },
  {
   "cell_type": "code",
   "execution_count": 2,
   "metadata": {},
   "outputs": [
    {
     "name": "stdout",
     "output_type": "stream",
     "text": [
      "Populating the interactive namespace from numpy and matplotlib\n"
     ]
    }
   ],
   "source": [
    "%pylab inline"
   ]
  },
  {
   "cell_type": "code",
   "execution_count": 3,
   "metadata": {},
   "outputs": [],
   "source": [
    "def write_answer(filename, result):\n",
    "    with open(filename, \"w\") as f:\n",
    "        f.write(str(result))"
   ]
  },
  {
   "cell_type": "code",
   "execution_count": 4,
   "metadata": {},
   "outputs": [],
   "source": [
    "information_X_y = datasets.load_boston()"
   ]
  },
  {
   "cell_type": "code",
   "execution_count": 5,
   "metadata": {},
   "outputs": [
    {
     "name": "stdout",
     "output_type": "stream",
     "text": [
      ".. _boston_dataset:\n",
      "\n",
      "Boston house prices dataset\n",
      "---------------------------\n",
      "\n",
      "**Data Set Characteristics:**  \n",
      "\n",
      "    :Number of Instances: 506 \n",
      "\n",
      "    :Number of Attributes: 13 numeric/categorical predictive. Median Value (attribute 14) is usually the target.\n",
      "\n",
      "    :Attribute Information (in order):\n",
      "        - CRIM     per capita crime rate by town\n",
      "        - ZN       proportion of residential land zoned for lots over 25,000 sq.ft.\n",
      "        - INDUS    proportion of non-retail business acres per town\n",
      "        - CHAS     Charles River dummy variable (= 1 if tract bounds river; 0 otherwise)\n",
      "        - NOX      nitric oxides concentration (parts per 10 million)\n",
      "        - RM       average number of rooms per dwelling\n",
      "        - AGE      proportion of owner-occupied units built prior to 1940\n",
      "        - DIS      weighted distances to five Boston employment centres\n",
      "        - RAD      index of accessibility to radial highways\n",
      "        - TAX      full-value property-tax rate per $10,000\n",
      "        - PTRATIO  pupil-teacher ratio by town\n",
      "        - B        1000(Bk - 0.63)^2 where Bk is the proportion of blacks by town\n",
      "        - LSTAT    % lower status of the population\n",
      "        - MEDV     Median value of owner-occupied homes in $1000's\n",
      "\n",
      "    :Missing Attribute Values: None\n",
      "\n",
      "    :Creator: Harrison, D. and Rubinfeld, D.L.\n",
      "\n",
      "This is a copy of UCI ML housing dataset.\n",
      "https://archive.ics.uci.edu/ml/machine-learning-databases/housing/\n",
      "\n",
      "\n",
      "This dataset was taken from the StatLib library which is maintained at Carnegie Mellon University.\n",
      "\n",
      "The Boston house-price data of Harrison, D. and Rubinfeld, D.L. 'Hedonic\n",
      "prices and the demand for clean air', J. Environ. Economics & Management,\n",
      "vol.5, 81-102, 1978.   Used in Belsley, Kuh & Welsch, 'Regression diagnostics\n",
      "...', Wiley, 1980.   N.B. Various transformations are used in the table on\n",
      "pages 244-261 of the latter.\n",
      "\n",
      "The Boston house-price data has been used in many machine learning papers that address regression\n",
      "problems.   \n",
      "     \n",
      ".. topic:: References\n",
      "\n",
      "   - Belsley, Kuh & Welsch, 'Regression diagnostics: Identifying Influential Data and Sources of Collinearity', Wiley, 1980. 244-261.\n",
      "   - Quinlan,R. (1993). Combining Instance-Based and Model-Based Learning. In Proceedings on the Tenth International Conference of Machine Learning, 236-243, University of Massachusetts, Amherst. Morgan Kaufmann.\n",
      "\n"
     ]
    }
   ],
   "source": [
    "print(information_X_y.DESCR)"
   ]
  },
  {
   "cell_type": "code",
   "execution_count": 6,
   "metadata": {},
   "outputs": [],
   "source": [
    "X = information_X_y.data\n",
    "y = information_X_y.target"
   ]
  },
  {
   "cell_type": "code",
   "execution_count": 7,
   "metadata": {},
   "outputs": [],
   "source": [
    "X_train, X_test, y_train, y_test = model_selection.train_test_split(X, y, test_size=0.25, shuffle=False)"
   ]
  },
  {
   "cell_type": "markdown",
   "metadata": {},
   "source": [
    "## Задание 1\n",
    "\n",
    "Как вы уже знаете из лекций, **бустинг** - это метод построения композиций базовых алгоритмов с помощью последовательного добавления к текущей композиции нового алгоритма с некоторым коэффициентом. \n",
    "\n",
    "Градиентный бустинг обучает каждый новый алгоритм так, чтобы он приближал антиградиент ошибки по ответам композиции на обучающей выборке. Аналогично минимизации функций методом градиентного спуска, в градиентном бустинге мы подправляем композицию, изменяя алгоритм в направлении антиградиента ошибки.\n",
    "\n",
    "Воспользуйтесь формулой из лекций, задающей ответы на обучающей выборке, на которые нужно обучать новый алгоритм (фактически это лишь чуть более подробно расписанный градиент от ошибки), и получите частный ее случай, если функция потерь `L` - квадрат отклонения ответа композиции `a(x)` от правильного ответа `y` на данном `x`.\n",
    "\n",
    "Если вы давно не считали производную самостоятельно, вам поможет таблица производных элементарных функций (которую несложно найти в интернете) и правило дифференцирования сложной функции. После дифференцирования квадрата у вас возникнет множитель 2 — т.к. нам все равно предстоит выбирать коэффициент, с которым будет добавлен новый базовый алгоритм, проигноируйте этот множитель при дальнейшем построении алгоритма."
   ]
  },
  {
   "cell_type": "code",
   "execution_count": 8,
   "metadata": {},
   "outputs": [],
   "source": [
    "def coef_s(z, y): #z predict \n",
    "    return y-z"
   ]
  },
  {
   "cell_type": "markdown",
   "metadata": {},
   "source": [
    "## Задание 2\n",
    "\n",
    "Заведите массив для объектов `DecisionTreeRegressor` (будем их использовать в качестве базовых алгоритмов) и для вещественных чисел (это будут коэффициенты перед базовыми алгоритмами). \n",
    "\n",
    "В цикле от обучите последовательно 50 решающих деревьев с параметрами `max_depth=5` и `random_state=42` (остальные параметры - по умолчанию). В бустинге зачастую используются сотни и тысячи деревьев, но мы ограничимся 50, чтобы алгоритм работал быстрее, и его было проще отлаживать (т.к. цель задания разобраться, как работает метод). Каждое дерево должно обучаться на одном и том же множестве объектов, но ответы, которые учится прогнозировать дерево, будут меняться в соответствие с полученным в задании 1 правилом. \n",
    "\n",
    "Попробуйте для начала всегда брать коэффициент равным 0.9. Обычно оправдано выбирать коэффициент значительно меньшим - порядка 0.05 или 0.1, но т.к. в нашем учебном примере на стандартном датасете будет всего 50 деревьев, возьмем для начала шаг побольше.\n",
    "\n",
    "В процессе реализации обучения вам потребуется функция, которая будет вычислять прогноз построенной на данный момент композиции деревьев на выборке `X`:\n",
    "\n",
    "```\n",
    "def gbm_predict(X):\n",
    "    return [sum([coeff * algo.predict([x])[0] for algo, coeff in zip(base_algorithms_list, coefficients_list)]) for x in X]\n",
    "(считаем, что base_algorithms_list - список с базовыми алгоритмами, coefficients_list - список с коэффициентами перед алгоритмами)\n",
    "```\n",
    "\n",
    "Эта же функция поможет вам получить прогноз на контрольной выборке и оценить качество работы вашего алгоритма с помощью `mean_squared_error` в `sklearn.metrics`. \n",
    "\n",
    "Возведите результат в степень 0.5, чтобы получить `RMSE`. Полученное значение `RMSE` — **ответ в пункте 2**."
   ]
  },
  {
   "cell_type": "code",
   "execution_count": 9,
   "metadata": {},
   "outputs": [],
   "source": [
    "def gbm_predict(X, base_algorithms_list, coefficients_list):\n",
    "    return [sum([coeff * algo.predict([x])[0] for algo, coeff in zip(base_algorithms_list, coefficients_list)]) for x in X]"
   ]
  },
  {
   "cell_type": "code",
   "execution_count": 10,
   "metadata": {},
   "outputs": [],
   "source": [
    "coefficients_list = np.array([0.9]*50) "
   ]
  },
  {
   "cell_type": "code",
   "execution_count": 11,
   "metadata": {},
   "outputs": [],
   "source": [
    "def grad_boost_with_tree(coefficients_list):\n",
    "    b_0_predict = y_train.mean()\n",
    "    s = coef_s(b_0_predict, y_train)\n",
    "    base_algorithms_list = []\n",
    "    for i in range(50):\n",
    "        regressor  = tree.DecisionTreeRegressor(max_depth=5, random_state=42)\n",
    "        b_i = regressor.fit(X_train, s)\n",
    "        base_algorithms_list.append(b_i)\n",
    "        s = coef_s(gbm_predict(X_train, base_algorithms_list, coefficients_list), y_train)  \n",
    "        print(\"iteration: \", i)\n",
    "        print(\"mean_squared_error: \", np.sqrt(metrics.mean_squared_error(y_test, gbm_predict(X_test, base_algorithms_list,\n",
    "                                                                                            coefficients_list))))\n",
    "    return base_algorithms_list"
   ]
  },
  {
   "cell_type": "code",
   "execution_count": 12,
   "metadata": {},
   "outputs": [
    {
     "name": "stdout",
     "output_type": "stream",
     "text": [
      "iteration:  0\n",
      "mean_squared_error:  22.161742587779628\n",
      "iteration:  1\n",
      "mean_squared_error:  5.027239407062743\n",
      "iteration:  2\n",
      "mean_squared_error:  5.69192763915451\n",
      "iteration:  3\n",
      "mean_squared_error:  5.87435947834759\n",
      "iteration:  4\n",
      "mean_squared_error:  6.14752437553713\n",
      "iteration:  5\n",
      "mean_squared_error:  6.082896555240941\n",
      "iteration:  6\n",
      "mean_squared_error:  6.18102968768605\n",
      "iteration:  7\n",
      "mean_squared_error:  6.226749304492866\n",
      "iteration:  8\n",
      "mean_squared_error:  6.379941509292298\n",
      "iteration:  9\n",
      "mean_squared_error:  6.380420435221391\n",
      "iteration:  10\n",
      "mean_squared_error:  6.386843311832976\n",
      "iteration:  11\n",
      "mean_squared_error:  6.381158461530806\n",
      "iteration:  12\n",
      "mean_squared_error:  6.379420142955294\n",
      "iteration:  13\n",
      "mean_squared_error:  6.384959245085554\n",
      "iteration:  14\n",
      "mean_squared_error:  6.327079252977689\n",
      "iteration:  15\n",
      "mean_squared_error:  6.363221965372965\n",
      "iteration:  16\n",
      "mean_squared_error:  6.36191560432617\n",
      "iteration:  17\n",
      "mean_squared_error:  6.348160144330616\n",
      "iteration:  18\n",
      "mean_squared_error:  6.357004228853535\n",
      "iteration:  19\n",
      "mean_squared_error:  6.3563592080072215\n",
      "iteration:  20\n",
      "mean_squared_error:  6.359106916396183\n",
      "iteration:  21\n",
      "mean_squared_error:  6.357838361478495\n",
      "iteration:  22\n",
      "mean_squared_error:  6.358317145007739\n",
      "iteration:  23\n",
      "mean_squared_error:  6.361548202222798\n",
      "iteration:  24\n",
      "mean_squared_error:  6.3628035330367565\n",
      "iteration:  25\n",
      "mean_squared_error:  6.363213966022371\n",
      "iteration:  26\n",
      "mean_squared_error:  6.361162126726912\n",
      "iteration:  27\n",
      "mean_squared_error:  6.362053955848877\n",
      "iteration:  28\n",
      "mean_squared_error:  6.376017123570537\n",
      "iteration:  29\n",
      "mean_squared_error:  6.359959307721248\n",
      "iteration:  30\n",
      "mean_squared_error:  6.361419082900158\n",
      "iteration:  31\n",
      "mean_squared_error:  6.361456653889643\n",
      "iteration:  32\n",
      "mean_squared_error:  6.360059179374848\n",
      "iteration:  33\n",
      "mean_squared_error:  6.359876425643359\n",
      "iteration:  34\n",
      "mean_squared_error:  6.359759937054204\n",
      "iteration:  35\n",
      "mean_squared_error:  6.360922048091706\n",
      "iteration:  36\n",
      "mean_squared_error:  6.362015213880041\n",
      "iteration:  37\n",
      "mean_squared_error:  6.361278913146143\n",
      "iteration:  38\n",
      "mean_squared_error:  6.359748168206828\n",
      "iteration:  39\n",
      "mean_squared_error:  6.360707623224388\n",
      "iteration:  40\n",
      "mean_squared_error:  6.360695150059272\n",
      "iteration:  41\n",
      "mean_squared_error:  6.36048454899064\n",
      "iteration:  42\n",
      "mean_squared_error:  6.360028112145742\n",
      "iteration:  43\n",
      "mean_squared_error:  6.360241570763869\n",
      "iteration:  44\n",
      "mean_squared_error:  6.360383814308013\n",
      "iteration:  45\n",
      "mean_squared_error:  6.360885422631236\n",
      "iteration:  46\n",
      "mean_squared_error:  6.36070775935771\n",
      "iteration:  47\n",
      "mean_squared_error:  6.360775724242259\n",
      "iteration:  48\n",
      "mean_squared_error:  6.360713780251721\n",
      "iteration:  49\n",
      "mean_squared_error:  6.360601652693612\n"
     ]
    }
   ],
   "source": [
    "base_algorithms_list = grad_boost_with_tree(coefficients_list)"
   ]
  },
  {
   "cell_type": "code",
   "execution_count": 13,
   "metadata": {},
   "outputs": [],
   "source": [
    "pred_train2 = gbm_predict(X_train, base_algorithms_list, coefficients_list)"
   ]
  },
  {
   "cell_type": "code",
   "execution_count": 14,
   "metadata": {},
   "outputs": [],
   "source": [
    "result_train2 = np.sqrt(metrics.mean_squared_error(y_train, pred_train2))"
   ]
  },
  {
   "cell_type": "code",
   "execution_count": 15,
   "metadata": {},
   "outputs": [
    {
     "data": {
      "text/plain": [
       "0.0025838443027329074"
      ]
     },
     "execution_count": 15,
     "metadata": {},
     "output_type": "execute_result"
    }
   ],
   "source": [
    "result_train2"
   ]
  },
  {
   "cell_type": "code",
   "execution_count": 16,
   "metadata": {},
   "outputs": [],
   "source": [
    "pred_test2 = gbm_predict(X_test, base_algorithms_list, coefficients_list)"
   ]
  },
  {
   "cell_type": "code",
   "execution_count": 17,
   "metadata": {},
   "outputs": [],
   "source": [
    "result_test2 = np.sqrt(metrics.mean_squared_error(y_test, pred_test2))"
   ]
  },
  {
   "cell_type": "code",
   "execution_count": 18,
   "metadata": {},
   "outputs": [
    {
     "data": {
      "text/plain": [
       "6.360601652693612"
      ]
     },
     "execution_count": 18,
     "metadata": {},
     "output_type": "execute_result"
    }
   ],
   "source": [
    "result_test2"
   ]
  },
  {
   "cell_type": "code",
   "execution_count": 19,
   "metadata": {},
   "outputs": [],
   "source": [
    "write_answer(\"answer_2\", result_test2)"
   ]
  },
  {
   "cell_type": "markdown",
   "metadata": {},
   "source": [
    "## Задание 3\n",
    "\n",
    "Вас может также беспокоить, что двигаясь с постоянным шагом, вблизи минимума ошибки ответы на обучающей выборке меняются слишком резко, перескакивая через минимум. \n",
    "\n",
    "Попробуйте уменьшать вес перед каждым алгоритмом с каждой следующей итерацией по формуле `0.9 / (1.0 + i)`, где `i` - номер итерации (от 0 до 49). Используйте качество работы алгоритма как **ответ в пункте 3**. \n",
    "\n",
    "В реальности часто применяется следующая стратегия выбора шага: как только выбран алгоритм, подберем коэффициент перед ним численным методом оптимизации таким образом, чтобы отклонение от правильных ответов было минимальным. Мы не будем предлагать вам реализовать это для выполнения задания, но рекомендуем попробовать разобраться с такой стратегией и реализовать ее при случае для себя."
   ]
  },
  {
   "cell_type": "code",
   "execution_count": 20,
   "metadata": {},
   "outputs": [],
   "source": [
    "coefficients_list = [coefficients_list[i]/(1 + i) for i in range(50)]"
   ]
  },
  {
   "cell_type": "code",
   "execution_count": 21,
   "metadata": {},
   "outputs": [
    {
     "name": "stdout",
     "output_type": "stream",
     "text": [
      "iteration:  0\n",
      "mean_squared_error:  22.161742587779628\n",
      "iteration:  1\n",
      "mean_squared_error:  11.873054014470993\n",
      "iteration:  2\n",
      "mean_squared_error:  8.49483917280849\n",
      "iteration:  3\n",
      "mean_squared_error:  6.7348611402890475\n",
      "iteration:  4\n",
      "mean_squared_error:  5.882095948474044\n",
      "iteration:  5\n",
      "mean_squared_error:  5.4502795330659195\n",
      "iteration:  6\n",
      "mean_squared_error:  5.205119329655754\n",
      "iteration:  7\n",
      "mean_squared_error:  5.042989747437587\n",
      "iteration:  8\n",
      "mean_squared_error:  4.9677748145975595\n",
      "iteration:  9\n",
      "mean_squared_error:  4.93685932751897\n",
      "iteration:  10\n",
      "mean_squared_error:  4.9191816575361145\n",
      "iteration:  11\n",
      "mean_squared_error:  4.917502738964949\n",
      "iteration:  12\n",
      "mean_squared_error:  4.921536296223577\n",
      "iteration:  13\n",
      "mean_squared_error:  4.946481164389622\n",
      "iteration:  14\n",
      "mean_squared_error:  4.963631074184063\n",
      "iteration:  15\n",
      "mean_squared_error:  4.983850706917167\n",
      "iteration:  16\n",
      "mean_squared_error:  5.005154588341403\n",
      "iteration:  17\n",
      "mean_squared_error:  5.024837013494156\n",
      "iteration:  18\n",
      "mean_squared_error:  5.045315139250449\n",
      "iteration:  19\n",
      "mean_squared_error:  5.0677257299175595\n",
      "iteration:  20\n",
      "mean_squared_error:  5.089467744899843\n",
      "iteration:  21\n",
      "mean_squared_error:  5.107142874104647\n",
      "iteration:  22\n",
      "mean_squared_error:  5.121896392173179\n",
      "iteration:  23\n",
      "mean_squared_error:  5.13501846241504\n",
      "iteration:  24\n",
      "mean_squared_error:  5.149328558988527\n",
      "iteration:  25\n",
      "mean_squared_error:  5.162698453058085\n",
      "iteration:  26\n",
      "mean_squared_error:  5.172804918559092\n",
      "iteration:  27\n",
      "mean_squared_error:  5.190788558415298\n",
      "iteration:  28\n",
      "mean_squared_error:  5.20585977943457\n",
      "iteration:  29\n",
      "mean_squared_error:  5.221940893547669\n",
      "iteration:  30\n",
      "mean_squared_error:  5.230193798210963\n",
      "iteration:  31\n",
      "mean_squared_error:  5.2446825059960895\n",
      "iteration:  32\n",
      "mean_squared_error:  5.2575925435079744\n",
      "iteration:  33\n",
      "mean_squared_error:  5.268311908604767\n",
      "iteration:  34\n",
      "mean_squared_error:  5.279803737191978\n",
      "iteration:  35\n",
      "mean_squared_error:  5.29311686423485\n",
      "iteration:  36\n",
      "mean_squared_error:  5.302115717510137\n",
      "iteration:  37\n",
      "mean_squared_error:  5.313958594644122\n",
      "iteration:  38\n",
      "mean_squared_error:  5.3258148563959145\n",
      "iteration:  39\n",
      "mean_squared_error:  5.33320916026708\n",
      "iteration:  40\n",
      "mean_squared_error:  5.342367030122218\n",
      "iteration:  41\n",
      "mean_squared_error:  5.3499351524633765\n",
      "iteration:  42\n",
      "mean_squared_error:  5.357671416409386\n",
      "iteration:  43\n",
      "mean_squared_error:  5.365905188777462\n",
      "iteration:  44\n",
      "mean_squared_error:  5.371196655779361\n",
      "iteration:  45\n",
      "mean_squared_error:  5.37795682078816\n",
      "iteration:  46\n",
      "mean_squared_error:  5.3865143292063715\n",
      "iteration:  47\n",
      "mean_squared_error:  5.391535750527914\n",
      "iteration:  48\n",
      "mean_squared_error:  5.3973623991300625\n",
      "iteration:  49\n",
      "mean_squared_error:  5.405149866038413\n"
     ]
    }
   ],
   "source": [
    "base_algorithms_list = grad_boost_with_tree(coefficients_list)"
   ]
  },
  {
   "cell_type": "code",
   "execution_count": 22,
   "metadata": {},
   "outputs": [],
   "source": [
    "pred_test3 = gbm_predict(X_test, base_algorithms_list, coefficients_list)\n",
    "result_test3 = np.sqrt(metrics.mean_squared_error(y_test, pred_test3))"
   ]
  },
  {
   "cell_type": "code",
   "execution_count": 23,
   "metadata": {},
   "outputs": [
    {
     "data": {
      "text/plain": [
       "5.405149866038413"
      ]
     },
     "execution_count": 23,
     "metadata": {},
     "output_type": "execute_result"
    }
   ],
   "source": [
    "result_test3"
   ]
  },
  {
   "cell_type": "code",
   "execution_count": 24,
   "metadata": {},
   "outputs": [],
   "source": [
    "write_answer(\"answer_3\", result_test3)"
   ]
  },
  {
   "cell_type": "markdown",
   "metadata": {},
   "source": [
    "## Задание 4\n",
    "\n",
    "Реализованный вами метод - градиентный бустинг над деревьями - очень популярен в машинном обучении. Он представлен как в самой библиотеке `sklearn`, так и в сторонней библиотеке `XGBoost`, которая имеет свой питоновский интерфейс. На практике `XGBoost` работает заметно лучше `GradientBoostingRegressor` из `sklearn`, но для этого задания вы можете использовать любую реализацию. \n",
    "\n",
    "Исследуйте, переобучается ли градиентный бустинг с ростом числа итераций (и подумайте, почему), а также с ростом глубины деревьев. На основе наблюдений выпишите через пробел номера правильных из приведенных ниже утверждений в порядке возрастания номера (это будет **ответ в п.4**):\n",
    "\n",
    "    1. С увеличением числа деревьев, начиная с некоторого момента, качество работы градиентного бустинга не меняется существенно.\n",
    "\n",
    "    2. С увеличением числа деревьев, начиная с некоторого момента, градиентный бустинг начинает переобучаться.\n",
    "\n",
    "    3. С ростом глубины деревьев, начиная с некоторого момента, качество работы градиентного бустинга на тестовой выборке начинает ухудшаться.\n",
    "\n",
    "    4. С ростом глубины деревьев, начиная с некоторого момента, качество работы градиентного бустинга перестает существенно изменяться"
   ]
  },
  {
   "cell_type": "code",
   "execution_count": 25,
   "metadata": {},
   "outputs": [
    {
     "name": "stdout",
     "output_type": "stream",
     "text": [
      "[ 1  5  9 13 17 21 25 29 33 37 41 45 49 53 57 61 65 69 73 77 81 85 89 93\n",
      " 97]\n"
     ]
    }
   ],
   "source": [
    "from sklearn.ensemble import GradientBoostingRegressor\n",
    "n_est = np.arange(1, 100, 4)\n",
    "print(n_est)\n",
    "\n",
    "score_train = []\n",
    "score_test = []\n",
    "for n in n_est:\n",
    "    reg = GradientBoostingRegressor(n_estimators=n)\n",
    "    reg.fit(X_train, y_train)\n",
    "    score_train.append(metrics.mean_squared_error(y_train, reg.predict(X_train)))\n",
    "    score_test.append(metrics.mean_squared_error(y_test, reg.predict(X_test)))\n",
    "    "
   ]
  },
  {
   "cell_type": "code",
   "execution_count": 26,
   "metadata": {},
   "outputs": [
    {
     "data": {
      "text/plain": [
       "<matplotlib.legend.Legend at 0x190f5da0>"
      ]
     },
     "execution_count": 26,
     "metadata": {},
     "output_type": "execute_result"
    },
    {
     "data": {
      "image/png": "[encoded data removed]",
      "text/plain": [
       "<Figure size 432x288 with 1 Axes>"
      ]
     },
     "metadata": {
      "needs_background": "light"
     },
     "output_type": "display_data"
    }
   ],
   "source": [
    "pylab.grid(True)\n",
    "pylab.plot(n_est, score_train, 'g-', marker='o', label='train')\n",
    "pylab.plot(n_est, score_test, 'y-', marker='o', label='test')\n",
    "pylab.xlabel('n_trees')\n",
    "pylab.ylabel('mean_squared_error')\n",
    "\n",
    "pylab.legend(loc='upper right')"
   ]
  },
  {
   "cell_type": "code",
   "execution_count": 27,
   "metadata": {},
   "outputs": [
    {
     "name": "stdout",
     "output_type": "stream",
     "text": [
      "[ 1  3  5  7  9 11 13 15 17 19 21 23 25 27 29 31 33 35 37 39 41 43 45 47\n",
      " 49]\n"
     ]
    }
   ],
   "source": [
    "n_depth = np.arange(1, 50, 2)\n",
    "print(n_depth)\n",
    "\n",
    "score_train2 = []\n",
    "score_test2 = []\n",
    "for n in n_depth:\n",
    "    reg = GradientBoostingRegressor(n_estimators=100, max_depth=n)\n",
    "    reg.fit(X_train, y_train)\n",
    "    score_train2.append(metrics.mean_squared_error(y_train, reg.predict(X_train)))\n",
    "    score_test2.append(metrics.mean_squared_error(y_test, reg.predict(X_test)))"
   ]
  },
  {
   "cell_type": "code",
   "execution_count": 28,
   "metadata": {},
   "outputs": [
    {
     "data": {
      "text/plain": [
       "<matplotlib.legend.Legend at 0x1b20bf28>"
      ]
     },
     "execution_count": 28,
     "metadata": {},
     "output_type": "execute_result"
    },
    {
     "data": {
      "image/png": "[encoded data removed]",
      "text/plain": [
       "<Figure size 432x288 with 1 Axes>"
      ]
     },
     "metadata": {
      "needs_background": "light"
     },
     "output_type": "display_data"
    }
   ],
   "source": [
    "pylab.grid(True)\n",
    "pylab.plot(n_depth, score_train2, 'g-', marker='o', label='train')\n",
    "pylab.plot(n_depth, score_test2, 'y-', marker='o', label='test')\n",
    "pylab.xlabel('n_depth')\n",
    "pylab.ylabel('mean_squared_error')\n",
    "\n",
    "pylab.legend(loc='upper right')"
   ]
  },
  {
   "cell_type": "code",
   "execution_count": 29,
   "metadata": {},
   "outputs": [],
   "source": [
    "write_answer(\"answer_4\", \"2 3\")"
   ]
  },
  {
   "cell_type": "markdown",
   "metadata": {},
   "source": [
    "## Задание 5\n",
    "\n",
    "Сравните получаемое с помощью градиентного бустинга качество с качеством работы линейной регрессии. \n",
    "\n",
    "Для этого обучите `LinearRegression` из `sklearn.linear_model` (с параметрами по умолчанию) на обучающей выборке и оцените для прогнозов полученного алгоритма на тестовой выборке `RMSE`. Полученное качество - ответ в **пункте 5**. \n",
    "\n",
    "В данном примере качество работы простой модели должно было оказаться хуже, но не стоит забывать, что так бывает не всегда. В заданиях к этому курсу вы еще встретите пример обратной ситуации."
   ]
  },
  {
   "cell_type": "code",
   "execution_count": 30,
   "metadata": {},
   "outputs": [],
   "source": [
    "def grad_boost_with_linear_model(coefficients_list):\n",
    "    b_0_predict = y_train.mean()\n",
    "    s = coef_s(b_0_predict, y_train)\n",
    "    base_algorithms_list = []\n",
    "    for i in range(50):\n",
    "        regressor  = linear_model.LinearRegression()\n",
    "        b_i = regressor.fit(X_train, s)\n",
    "        base_algorithms_list.append(b_i)\n",
    "        s = coef_s(gbm_predict(X_train, base_algorithms_list, coefficients_list), y_train)  \n",
    "        print(\"iteration: \", i)\n",
    "        print(\"mean_squared_error: \", np.sqrt(metrics.mean_squared_error(y_test, gbm_predict(X_test, base_algorithms_list,\n",
    "                                                                                            coefficients_list))))\n",
    "    return base_algorithms_list"
   ]
  },
  {
   "cell_type": "code",
   "execution_count": 31,
   "metadata": {},
   "outputs": [
    {
     "data": {
      "text/plain": [
       "[0.9,\n",
       " 0.45,\n",
       " 0.3,\n",
       " 0.225,\n",
       " 0.18,\n",
       " 0.15,\n",
       " 0.1285714285714286,\n",
       " 0.1125,\n",
       " 0.1,\n",
       " 0.09,\n",
       " 0.08181818181818182,\n",
       " 0.075,\n",
       " 0.06923076923076923,\n",
       " 0.0642857142857143,\n",
       " 0.060000000000000005,\n",
       " 0.05625,\n",
       " 0.052941176470588235,\n",
       " 0.05,\n",
       " 0.04736842105263158,\n",
       " 0.045,\n",
       " 0.04285714285714286,\n",
       " 0.04090909090909091,\n",
       " 0.0391304347826087,\n",
       " 0.0375,\n",
       " 0.036000000000000004,\n",
       " 0.03461538461538462,\n",
       " 0.03333333333333333,\n",
       " 0.03214285714285715,\n",
       " 0.03103448275862069,\n",
       " 0.030000000000000002,\n",
       " 0.02903225806451613,\n",
       " 0.028125,\n",
       " 0.027272727272727275,\n",
       " 0.026470588235294117,\n",
       " 0.025714285714285714,\n",
       " 0.025,\n",
       " 0.024324324324324326,\n",
       " 0.02368421052631579,\n",
       " 0.023076923076923078,\n",
       " 0.0225,\n",
       " 0.021951219512195124,\n",
       " 0.02142857142857143,\n",
       " 0.020930232558139535,\n",
       " 0.020454545454545454,\n",
       " 0.02,\n",
       " 0.01956521739130435,\n",
       " 0.019148936170212766,\n",
       " 0.01875,\n",
       " 0.018367346938775512,\n",
       " 0.018000000000000002]"
      ]
     },
     "execution_count": 31,
     "metadata": {},
     "output_type": "execute_result"
    }
   ],
   "source": [
    "coefficients_list"
   ]
  },
  {
   "cell_type": "code",
   "execution_count": 32,
   "metadata": {},
   "outputs": [
    {
     "name": "stdout",
     "output_type": "stream",
     "text": [
      "iteration:  0\n",
      "mean_squared_error:  19.002163938826264\n",
      "iteration:  1\n",
      "mean_squared_error:  8.8435011892595\n",
      "iteration:  2\n",
      "mean_squared_error:  6.0347693464785594\n",
      "iteration:  3\n",
      "mean_squared_error:  5.270883394534729\n",
      "iteration:  4\n",
      "mean_squared_error:  5.1988107577754725\n",
      "iteration:  5\n",
      "mean_squared_error:  5.3420043438516185\n",
      "iteration:  6\n",
      "mean_squared_error:  5.53822683922233\n",
      "iteration:  7\n",
      "mean_squared_error:  5.734654633720632\n",
      "iteration:  8\n",
      "mean_squared_error:  5.9153300807040745\n",
      "iteration:  9\n",
      "mean_squared_error:  6.07680414807888\n",
      "iteration:  10\n",
      "mean_squared_error:  6.219813977869305\n",
      "iteration:  11\n",
      "mean_squared_error:  6.346343777108607\n",
      "iteration:  12\n",
      "mean_squared_error:  6.458574542909174\n",
      "iteration:  13\n",
      "mean_squared_error:  6.558525058096736\n",
      "iteration:  14\n",
      "mean_squared_error:  6.647951698836096\n",
      "iteration:  15\n",
      "mean_squared_error:  6.72834387689747\n",
      "iteration:  16\n",
      "mean_squared_error:  6.800951838978507\n",
      "iteration:  17\n",
      "mean_squared_error:  6.866822227070688\n",
      "iteration:  18\n",
      "mean_squared_error:  6.92683222197216\n",
      "iteration:  19\n",
      "mean_squared_error:  6.981719303030488\n",
      "iteration:  20\n",
      "mean_squared_error:  7.032106116226086\n",
      "iteration:  21\n",
      "mean_squared_error:  7.078520849495326\n",
      "iteration:  22\n",
      "mean_squared_error:  7.121413781592214\n",
      "iteration:  23\n",
      "mean_squared_error:  7.161170684351218\n",
      "iteration:  24\n",
      "mean_squared_error:  7.198123681314147\n",
      "iteration:  25\n",
      "mean_squared_error:  7.232560066290043\n",
      "iteration:  26\n",
      "mean_squared_error:  7.264729490204015\n",
      "iteration:  27\n",
      "mean_squared_error:  7.2948498424944415\n",
      "iteration:  28\n",
      "mean_squared_error:  7.323112085896354\n",
      "iteration:  29\n",
      "mean_squared_error:  7.349684249440485\n",
      "iteration:  30\n",
      "mean_squared_error:  7.374714741789889\n",
      "iteration:  31\n",
      "mean_squared_error:  7.3983351134753095\n",
      "iteration:  32\n",
      "mean_squared_error:  7.420662370278009\n",
      "iteration:  33\n",
      "mean_squared_error:  7.441800919375621\n",
      "iteration:  34\n",
      "mean_squared_error:  7.461844213659062\n",
      "iteration:  35\n",
      "mean_squared_error:  7.480876146862131\n",
      "iteration:  36\n",
      "mean_squared_error:  7.498972242055871\n",
      "iteration:  37\n",
      "mean_squared_error:  7.516200668055043\n",
      "iteration:  38\n",
      "mean_squared_error:  7.532623111908111\n",
      "iteration:  39\n",
      "mean_squared_error:  7.548295530541939\n",
      "iteration:  40\n",
      "mean_squared_error:  7.563268800535707\n",
      "iteration:  41\n",
      "mean_squared_error:  7.577589281693801\n",
      "iteration:  42\n",
      "mean_squared_error:  7.5912993074103525\n",
      "iteration:  43\n",
      "mean_squared_error:  7.604437612640555\n",
      "iteration:  44\n",
      "mean_squared_error:  7.617039708515444\n",
      "iteration:  45\n",
      "mean_squared_error:  7.629138211178471\n",
      "iteration:  46\n",
      "mean_squared_error:  7.640763131221941\n",
      "iteration:  47\n",
      "mean_squared_error:  7.6519421291095115\n",
      "iteration:  48\n",
      "mean_squared_error:  7.662700741148569\n",
      "iteration:  49\n",
      "mean_squared_error:  7.673062579891788\n"
     ]
    }
   ],
   "source": [
    "base_algorithms_list = grad_boost_with_linear_model(coefficients_list)"
   ]
  },
  {
   "cell_type": "code",
   "execution_count": 33,
   "metadata": {},
   "outputs": [],
   "source": [
    "pred_train5 = gbm_predict(X_train, base_algorithms_list, coefficients_list)"
   ]
  },
  {
   "cell_type": "code",
   "execution_count": 34,
   "metadata": {},
   "outputs": [],
   "source": [
    "pred_test5 = gbm_predict(X_test, base_algorithms_list, coefficients_list)"
   ]
  },
  {
   "cell_type": "code",
   "execution_count": 35,
   "metadata": {},
   "outputs": [],
   "source": [
    "result_train5 = np.sqrt(metrics.mean_squared_error(y_train, pred_train5))"
   ]
  },
  {
   "cell_type": "code",
   "execution_count": 36,
   "metadata": {},
   "outputs": [
    {
     "data": {
      "text/plain": [
       "4.639265382205194"
      ]
     },
     "execution_count": 36,
     "metadata": {},
     "output_type": "execute_result"
    }
   ],
   "source": [
    "result_train5"
   ]
  },
  {
   "cell_type": "code",
   "execution_count": 37,
   "metadata": {},
   "outputs": [],
   "source": [
    "result_test5 = np.sqrt(metrics.mean_squared_error(y_test, pred_test5))"
   ]
  },
  {
   "cell_type": "code",
   "execution_count": 38,
   "metadata": {},
   "outputs": [
    {
     "data": {
      "text/plain": [
       "7.673062579891788"
      ]
     },
     "execution_count": 38,
     "metadata": {},
     "output_type": "execute_result"
    }
   ],
   "source": [
    "result_test5"
   ]
  },
  {
   "cell_type": "code",
   "execution_count": 39,
   "metadata": {},
   "outputs": [],
   "source": [
    "write_answer(\"answer_5\", result_test5)"
   ]
  },
  {
   "cell_type": "code",
   "execution_count": null,
   "metadata": {},
   "outputs": [],
   "source": []
  }
 ],
 "metadata": {
  "kernelspec": {
   "display_name": "Python 3",
   "language": "python",
   "name": "python3"
  },
  "language_info": {
   "codemirror_mode": {
    "name": "ipython",
    "version": 3
   },
   "file_extension": ".py",
   "mimetype": "text/x-python",
   "name": "python",
   "nbconvert_exporter": "python",
   "pygments_lexer": "ipython3",
   "version": "3.7.0"
  }
 },
 "nbformat": 4,
 "nbformat_minor": 1
}
